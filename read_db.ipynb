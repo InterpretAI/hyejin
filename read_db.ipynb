{
 "cells": [
  {
   "cell_type": "code",
   "execution_count": 1,
   "metadata": {},
   "outputs": [],
   "source": [
    "import sqlalchemy\n",
    "import sqlite3\n",
    "import os\n"
   ]
  },
  {
   "cell_type": "code",
   "execution_count": 2,
   "metadata": {},
   "outputs": [
    {
     "data": {
      "text/plain": [
       "'/Users/a420582/interpret_ai/flask'"
      ]
     },
     "execution_count": 2,
     "metadata": {},
     "output_type": "execute_result"
    }
   ],
   "source": [
    "os.getcwd()"
   ]
  },
  {
   "cell_type": "code",
   "execution_count": 3,
   "metadata": {},
   "outputs": [],
   "source": [
    "def get_connection():\n",
    "\n",
    "    uri = os.getcwd()+'/iai.db'\n",
    "    creator = lambda: sqlite3.connect(uri, uri=True)\n",
    "    db = sqlalchemy.create_engine('sqlite:////', creator=creator)\n",
    "    conn = db.raw_connection()\n",
    "    \n",
    "    return conn"
   ]
  },
  {
   "cell_type": "code",
   "execution_count": 10,
   "metadata": {},
   "outputs": [
    {
     "data": {
      "text/plain": [
       "[(1,\n",
       "  'MM AI',\n",
       "  '당신은 높은 수준의 데이터 사이언스 지식을 가진 전문가입니다. 아래의 정보는 어떤 화면의 내용을 글로 표기한 것입니다. 이를 기반으로 마케터의 질문에 쉽고 자세하고 개괄적으로 한국어로 답변해야 합니다.',\n",
       "  '2023-09-06 14:53:42.794207',\n",
       "  1,\n",
       "  None),\n",
       " (2,\n",
       "  'Pathfinder',\n",
       "  '당신은 높은 수준의 지식을 가지고 있는 Data Science 전문가입니다. 최대한 구체적이고 상세하게 대답해주세요. \\r\\n다음은 어떤 모델의 퍼포먼스에 대한 설명입니다:{df_result}.\\r\\nAUROC가 0.7보다 크고 0.9보다 작은 경우, 해당 모델을 마케팅에 활용하고자 합니다. 이에 대해 평가해주세요. \\r\\n이 모델의 AUROC 값을 보고 마케팅에 활용할 수 있는지 판단해주세요. 각 단어에 대한 정의는 설명하지 않습니다.',\n",
       "  '2023-09-06 21:42:09.239246',\n",
       "  1,\n",
       "  None)]"
      ]
     },
     "metadata": {},
     "output_type": "display_data"
    }
   ],
   "source": [
    "conn = get_connection()\n",
    "\n",
    "user_id = '1'\n",
    "\n",
    "sql = '''\n",
    "    select id, component, content, create_date, user_id, modify_date\n",
    "    from Prompt\n",
    "    where user_id = {}\n",
    "'''.format(user_id)\n",
    "\n",
    "cursor = conn.cursor()\n",
    "cursor.execute(sql)\n",
    "\n",
    "row = cursor.fetchall()\n",
    "\n",
    "display(row)"
   ]
  },
  {
   "cell_type": "code",
   "execution_count": 9,
   "metadata": {},
   "outputs": [
    {
     "name": "stdout",
     "output_type": "stream",
     "text": [
      "[(1, 'MM AI', '당신은 높은 수준의 데이터 사이언스 지식을 가진 전문가입니다. 아래의 정보는 어떤 화면의 내용을 글로 표기한 것입니다. 이를 기반으로 마케터의 질문에 쉽고 자세하고 개괄적으로 한국어로 답변해야 합니다.', '2023-09-06 14:53:42.794207', 1, None), (2, 'Pathfinder', '당신은 높은 수준의 지식을 가지고 있는 Data Science 전문가입니다. 최대한 구체적이고 상세하게 대답해주세요. \\r\\n다음은 어떤 모델의 퍼포먼스에 대한 설명입니다:{df_result}.\\r\\nAUROC가 0.7보다 크고 0.9보다 작은 경우, 해당 모델을 마케팅에 활용하고자 합니다. 이에 대해 평가해주세요. \\r\\n이 모델의 AUROC 값을 보고 마케팅에 활용할 수 있는지 판단해주세요. 각 단어에 대한 정의는 설명하지 않습니다.', '2023-09-06 21:42:09.239246', 1, None)]\n"
     ]
    }
   ],
   "source": [
    "print(row)"
   ]
  },
  {
   "cell_type": "code",
   "execution_count": 11,
   "metadata": {},
   "outputs": [
    {
     "data": {
      "text/plain": [
       "<bound method _ConnectionFairy.close of <sqlalchemy.pool.base._ConnectionFairy object at 0x1071483a0>>"
      ]
     },
     "execution_count": 11,
     "metadata": {},
     "output_type": "execute_result"
    }
   ],
   "source": [
    "conn.close"
   ]
  },
  {
   "cell_type": "code",
   "execution_count": null,
   "metadata": {},
   "outputs": [],
   "source": []
  }
 ],
 "metadata": {
  "kernelspec": {
   "display_name": "Python 3",
   "language": "python",
   "name": "python3"
  },
  "language_info": {
   "codemirror_mode": {
    "name": "ipython",
    "version": 3
   },
   "file_extension": ".py",
   "mimetype": "text/x-python",
   "name": "python",
   "nbconvert_exporter": "python",
   "pygments_lexer": "ipython3",
   "version": "3.10.8"
  },
  "orig_nbformat": 4
 },
 "nbformat": 4,
 "nbformat_minor": 2
}
